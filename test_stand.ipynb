{
 "cells": [
  {
   "cell_type": "code",
   "execution_count": 1,
   "id": "57f76f5b",
   "metadata": {},
   "outputs": [],
   "source": [
    "import imaplib\n",
    "import email\n",
    "from email.header import decode_header\n",
    "import webbrowser\n",
    "import os\n",
    "import traceback\n",
    "import base64\n",
    "from bs4 import BeautifulSoup\n",
    "import config\n",
    "import functions\n",
    "import re"
   ]
  },
  {
   "cell_type": "code",
   "execution_count": 2,
   "id": "15106ad7",
   "metadata": {},
   "outputs": [],
   "source": [
    "def connection():\n",
    "    mail_pass = config.mail_pass\n",
    "    username = config.username\n",
    "    imap_server = \"imap.mail.ru\"\n",
    "    imap = imaplib.IMAP4_SSL(imap_server)\n",
    "    sts, res = imap.login(username, mail_pass)\n",
    "    print(res)\n",
    "    if sts == \"OK\":\n",
    "        return imap\n",
    "    else:\n",
    "        return False\n",
    "\n",
    "\n",
    "def encoded_words_to_text(encoded_words):\n",
    "    # encoded_words=encoded_words.replace(\"\\n\", \"\").replace(\"\\r\", \"\").replace(\"\\t\", \"\").replace(\" \", \"\")\n",
    "    encoded_word_regex = r\"=\\?{1}(.+)\\?{1}([B|Q])\\?{1}(.+)\\?{1}=\"\n",
    "    charset, encoding, encoded_text = re.match(\n",
    "        encoded_word_regex, encoded_words\n",
    "    ).groups()\n",
    "    if encoding == \"B\":\n",
    "        byte_string = base64.b64decode(encoded_text)\n",
    "    elif encoding == \"Q\":\n",
    "        byte_string = quopri.decodestring(encoded_text)\n",
    "    return byte_string.decode(charset)\n",
    "\n",
    "\n",
    "def get_attaches(msg):\n",
    "    attaches = list()\n",
    "    for part in msg.walk():\n",
    "        if part.get_content_disposition() == \"attachment\":\n",
    "            if \"pdf\" in part.get_content_type():\n",
    "                attaches.append(pdf_to_str(part.get_payload(decode=True)))\n",
    "    if attaches:\n",
    "        return attaches\n",
    "    else:\n",
    "        return [False]\n",
    "\n",
    "\n",
    "def date_parse(msg_date):\n",
    "    dt_obj = \"\".join(str(msg_date[:6]))\n",
    "    dt_obj = dt_obj.strip(\"'(),\")\n",
    "    dt_obj = datetime.strptime(dt_obj, \"%Y, %m, %d, %H, %M, %S\")\n",
    "    return dt_obj\n",
    "\n",
    "\n",
    "def pdf_to_str(pdf):\n",
    "    all_doc = \"\"\n",
    "    try:\n",
    "        with io.BytesIO(pdf) as open_pdf_file:\n",
    "            read_pdf = PyPDF2.PdfFileReader(open_pdf_file)\n",
    "            num_pages = read_pdf.getNumPages()\n",
    "            for page in read_pdf.pages:\n",
    "                page_content = page\n",
    "                all_doc += page_content.extractText()\n",
    "            return all_doc\n",
    "    except:\n",
    "        return False\n",
    "\n",
    "async def send_message(bot_token, message, chat, rpl=None, prv=None):\n",
    "    bot = Bot(token=bot_token)\n",
    "    await bot.get_session()\n",
    "    obj = await bot.send_message(\n",
    "        chat_id=chat,\n",
    "        text=message,\n",
    "        parse_mode=\"HTML\",\n",
    "        reply_to_message_id=rpl,\n",
    "        disable_web_page_preview=prv,\n",
    "    )\n",
    "    await bot._session.close()\n",
    "    return obj.message_id\n",
    "\n",
    "def get_letter_text(body):   \n",
    "    soup = BeautifulSoup(body, 'html.parser')\n",
    "    paragraphs = soup.find_all('div')\n",
    "    text=\"\"\n",
    "    for paragraph in paragraphs:\n",
    "        text += paragraph.text + \"\\n\"    \n",
    "    return text.replace('\\xa0', ' ')\n",
    "\n",
    "def get_text_from_multipart(msg):\n",
    "    payload = msg.get_payload()[0]\n",
    "    print(payload[\"Content-Type\"])\n",
    "    if \"text/plain\" in payload[\"Content-Type\"]:\n",
    "        letter_text = (\n",
    "            (base64.b64decode(payload.get_payload()).decode())\n",
    "            .lstrip()\n",
    "            .rstrip()\n",
    "        )\n",
    "        letter_text = letter_text.replace(\"<\",\"\").replace(\">\",\"\")       \n",
    "    if \"text/html\" in payload[\"Content-Type\"]:\n",
    "        letter_text = (\n",
    "            (base64.b64decode(payload.get_payload()).decode())\n",
    "            .lstrip()\n",
    "            .rstrip()\n",
    "        )\n",
    "        letter_text=get_letter_text(letter_text)\n",
    "    if \"multipart\" in payload[\"Content-Type\"]:\n",
    "        letter_text = (\n",
    "            (\n",
    "                base64.b64decode(\n",
    "                    payload.get_payload()[0].get_payload()\n",
    "                ).decode()\n",
    "            )\n",
    "            .lstrip()\n",
    "            .rstrip()\n",
    "        )\n",
    "    return letter_text\n",
    "\n",
    "def post_construct(msg_subj, msg_from, msg_email, letter_text, att_files):\n",
    "    txt = \"\"\n",
    "    txt += (\n",
    "        \"<b>\"\n",
    "        + str(msg_subj)\n",
    "        + \"</b>\"\n",
    "        + \"\\n\\n\"\n",
    "        + str(msg_from)\n",
    "        + \"\\n\"\n",
    "        + msg_email\n",
    "        + \"\\n\"\n",
    "        + letter_text\n",
    "        + \"\\n\"\n",
    "        + \"вложения pdf: \"\n",
    "        + str(att_files)\n",
    "    )\n",
    "    return txt"
   ]
  },
  {
   "cell_type": "code",
   "execution_count": 202,
   "id": "c42870d6",
   "metadata": {},
   "outputs": [
    {
     "name": "stdout",
     "output_type": "stream",
     "text": [
      "[b'Authentication successful']\n"
     ]
    }
   ],
   "source": [
    "imap = connection()"
   ]
  },
  {
   "cell_type": "code",
   "execution_count": 221,
   "id": "6d75b44b",
   "metadata": {},
   "outputs": [],
   "source": [
    "status, messages = imap.select(\"INBOX\")  # папка входящие\n",
    "res, unseen_msg = imap.uid('search', \"UNSEEN\", \"ALL\")\n",
    "unseen_msg = unseen_msg[0].decode(\"utf-8\").split(\" \")"
   ]
  },
  {
   "cell_type": "code",
   "execution_count": 222,
   "id": "cb34a168",
   "metadata": {},
   "outputs": [
    {
     "name": "stdout",
     "output_type": "stream",
     "text": [
      "['26']\n"
     ]
    }
   ],
   "source": [
    "if unseen_msg[0]:\n",
    "    print(unseen_msg)\n",
    "else:\n",
    "    print('there are no unseen messages')"
   ]
  },
  {
   "cell_type": "code",
   "execution_count": 223,
   "id": "4a8a75d2",
   "metadata": {},
   "outputs": [
    {
     "name": "stdout",
     "output_type": "stream",
     "text": [
      "26\n",
      "multipart\n"
     ]
    }
   ],
   "source": [
    "for letter in unseen_msg:\n",
    "    print(letter)\n",
    "    attachments=[]\n",
    "    res, msg = imap.uid('fetch', letter, '(RFC822)')\n",
    "    msg = email.message_from_bytes(msg[0][1]) # получаем объект email\n",
    "    if msg.is_multipart():\n",
    "        print('multipart')                          \n",
    "    else:\n",
    "        print('single')                "
   ]
  },
  {
   "cell_type": "code",
   "execution_count": 136,
   "id": "81aba65b",
   "metadata": {},
   "outputs": [],
   "source": [
    "letter=str(24)\n",
    "res, msg = imap.uid('fetch', letter, '(RFC822)')\n",
    "msg = email.message_from_bytes(msg[0][1]) # получаем объект email"
   ]
  },
  {
   "cell_type": "code",
   "execution_count": null,
   "id": "18856ab3",
   "metadata": {},
   "outputs": [],
   "source": []
  },
  {
   "cell_type": "code",
   "execution_count": 47,
   "id": "711dd68d",
   "metadata": {},
   "outputs": [
    {
     "name": "stdout",
     "output_type": "stream",
     "text": [
      "Content-Type\n",
      "Content-Transfer-Encoding\n"
     ]
    }
   ],
   "source": [
    "from email.policy import default as default_policy\n",
    "res, msg = imap.uid('fetch', letter, '(RFC822)')\n",
    "msg = email.message_from_bytes(msg[0][1], policy=default_policy)\n",
    "body=msg.get_body('plain')\n",
    "for row in body:\n",
    "    print(row)"
   ]
  },
  {
   "cell_type": "code",
   "execution_count": 48,
   "id": "62144ade",
   "metadata": {},
   "outputs": [
    {
     "data": {
      "text/plain": [
       "b'19 (UID 28 RFC822 {110401}'"
      ]
     },
     "execution_count": 48,
     "metadata": {},
     "output_type": "execute_result"
    }
   ],
   "source": [
    "res, msg_0 = imap.uid('fetch', letter, '(RFC822)')\n",
    "msg_0[0][0] # Что это за цифры? 15814\n",
    "b'19 (UID 28 RFC822 {110401}'"
   ]
  },
  {
   "cell_type": "code",
   "execution_count": 230,
   "id": "eefdc073",
   "metadata": {},
   "outputs": [],
   "source": [
    "#multipart\n",
    "payload = msg.get_payload() #список, состоит из нескольких частей"
   ]
  },
  {
   "cell_type": "code",
   "execution_count": 231,
   "id": "3cd1ebfc",
   "metadata": {},
   "outputs": [
    {
     "data": {
      "text/plain": [
       "[<email.message.Message at 0x7f0ff4d68b50>,\n",
       " <email.message.Message at 0x7f0ff4d68790>]"
      ]
     },
     "execution_count": 231,
     "metadata": {},
     "output_type": "execute_result"
    }
   ],
   "source": [
    "payload"
   ]
  },
  {
   "cell_type": "code",
   "execution_count": 51,
   "id": "1d2e3007",
   "metadata": {},
   "outputs": [],
   "source": [
    "def get_text_from_multipart(payload):\n",
    "    #payload = msg.get_payload()    \n",
    "    print(payload[\"Content-Type\"])\n",
    "    if payload.is_multipart():\n",
    "        print('m')\n",
    "        letter_text = (\n",
    "            (\n",
    "                base64.b64decode(\n",
    "                    payload.get_payload()[0].get_payload()\n",
    "                ).decode()\n",
    "            )\n",
    "            .lstrip()\n",
    "            .rstrip()\n",
    "        )\n",
    "        \n",
    "    elif \"text/plain\" in payload[\"Content-Type\"]:\n",
    "        print('i')\n",
    "        letter_text = (\n",
    "            (base64.b64decode(payload.get_payload()).decode())\n",
    "            .lstrip()\n",
    "            .rstrip()\n",
    "        )\n",
    "        letter_text = letter_text.replace(\"<\",\"\").replace(\">\",\"\")\n",
    "        \n",
    "    \n",
    "    elif \"text/html\" in payload[\"Content-Type\"]:\n",
    "        print('ii')\n",
    "        letter_text = (\n",
    "            (base64.b64decode(payload.get_payload()).decode())\n",
    "            .lstrip()\n",
    "            .rstrip()\n",
    "        )        \n",
    "        letter_text=get_letter_text(letter_text)                     \n",
    "    return letter_text"
   ]
  },
  {
   "cell_type": "code",
   "execution_count": 31,
   "id": "4bb41f78",
   "metadata": {},
   "outputs": [],
   "source": [
    "def encode_att_names(str_pl):\n",
    "    enode_name=re.findall('\\=\\?.*?\\?\\=', str_pl)        \n",
    "    if len(enode_name) == 1:            \n",
    "        decode_name=(decode_header(enode_name[0])[0][0])            \n",
    "        decode_name=decode_name.decode(\"utf-8\")            \n",
    "        str_pl=str_pl.replace(enode_name[0], decode_name)\n",
    "    if len(enode_name) > 1:             \n",
    "        nm=''\n",
    "        for part in enode_name:                \n",
    "            decode_name=(decode_header(part)[0][0])                        \n",
    "            decode_name=decode_name.decode(\"utf-8\")\n",
    "            nm+=decode_name            \n",
    "        str_pl=str_pl.replace(enode_name[0], nm)    \n",
    "        for c, i in enumerate(enode_name):           \n",
    "            if c > 0:                \n",
    "                str_pl=str_pl.replace(enode_name[c], \"\").replace(\"\\\"\",'').rstrip()\n",
    "    return str_pl  "
   ]
  },
  {
   "cell_type": "code",
   "execution_count": 232,
   "id": "b93c5ba7",
   "metadata": {},
   "outputs": [
    {
     "name": "stdout",
     "output_type": "stream",
     "text": [
      "False\n",
      "content_disposition None html\n",
      "text/html; charset=utf-8\n",
      "text/html; charset=utf-8\n",
      "False\n",
      "content_disposition attachment pdf\n",
      "application/pdf;\r\n",
      "\tname=\"=?UTF-8?B?0JDQvdC+0L3RgSBfINC/0LXRgtCw0L3Qui5wZGY=?=\"\n",
      "application/pdf;\r\n",
      "\tname=\"Анонс _ петанк.pdf\"\n"
     ]
    }
   ],
   "source": [
    "attachments=list()  \n",
    "for pl in payload:\n",
    "    \n",
    "    print(pl.is_multipart())\n",
    "    print('content_disposition', pl.get_content_disposition(), pl.get_content_subtype())\n",
    "    print(pl[\"Content-Type\"])\n",
    "    \n",
    "    if pl.is_multipart():                \n",
    "        next_level=pl.get_payload()\n",
    "        types=[]\n",
    "        for level in next_level:\n",
    "            print(type(level[\"Content-Type\"]))            \n",
    "            if len(types) == 0: #чтобы два раза не собиралась письмо                \n",
    "                print(get_text_from_multipart(level))\n",
    "            hl=level[\"Content-Type\"]\n",
    "            types.append(hl)                  \n",
    "    if 'name' in pl[\"Content-Type\"] and pl.get_content_disposition() == 'attachment':               \n",
    "        str_pl=pl[\"Content-Type\"]               \n",
    "        str_pl=encode_att_names(str_pl)\n",
    "        attachments.append(str_pl)\n",
    "        print(str_pl)\n",
    "    else:\n",
    "        pass\n",
    "        print(pl[\"Content-Type\"])"
   ]
  },
  {
   "cell_type": "code",
   "execution_count": 233,
   "id": "2fd253e7",
   "metadata": {},
   "outputs": [
    {
     "data": {
      "text/plain": [
       "['application/pdf;\\r\\n\\tname=\"Анонс _ петанк.pdf\"']"
      ]
     },
     "execution_count": 233,
     "metadata": {},
     "output_type": "execute_result"
    }
   ],
   "source": [
    "attachments"
   ]
  },
  {
   "cell_type": "code",
   "execution_count": 56,
   "id": "80ab0808",
   "metadata": {},
   "outputs": [],
   "source": [
    "def get_attachments():\n",
    "    payload = msg.get_payload()\n",
    "    attachments=list()  \n",
    "    for pl in payload:\n",
    "        if 'name' in pl[\"Content-Type\"] and pl.get_content_disposition() == 'attachment':               \n",
    "            str_pl=pl[\"Content-Type\"]               \n",
    "            str_pl=encode_att_names(str_pl)\n",
    "            attachments.append(str_pl)\n",
    "    return attachments"
   ]
  },
  {
   "cell_type": "code",
   "execution_count": 59,
   "id": "96013eab",
   "metadata": {},
   "outputs": [],
   "source": [
    "att_txt=\"\"\n",
    "for atts in attachments:\n",
    "    att_txt+=(atts.strip()+\"\\n\")\n",
    "\n",
    "    "
   ]
  },
  {
   "cell_type": "code",
   "execution_count": 60,
   "id": "e3f0e58a",
   "metadata": {},
   "outputs": [
    {
     "data": {
      "text/plain": [
       "'application/pdf; name=\"Бланк согласие на грипп.pdf\"\\n'"
      ]
     },
     "execution_count": 60,
     "metadata": {},
     "output_type": "execute_result"
    }
   ],
   "source": [
    "att_txt"
   ]
  },
  {
   "cell_type": "code",
   "execution_count": 178,
   "id": "5d9bfa2f",
   "metadata": {},
   "outputs": [],
   "source": [
    "def decode_text(payload):    \n",
    "    if payload.get_content_subtype() == 'plain':    \n",
    "        print('i')\n",
    "        letter_text = (\n",
    "            (base64.b64decode(payload.get_payload()).decode())\n",
    "            .lstrip()\n",
    "            .rstrip()\n",
    "        )        \n",
    "        letter_text = letter_text.replace(\"<\",\"\").replace(\">\",\"\").replace(\"\\xa0\",\"\")\n",
    "        return letter_text\n",
    "    if payload.get_content_subtype() == 'html':   \n",
    "        print('ii')\n",
    "        letter_text = (\n",
    "            (base64.b64decode(payload.get_payload()).decode())\n",
    "            .lstrip()\n",
    "            .rstrip()\n",
    "        )        \n",
    "        letter_text=get_letter_text(letter_text)\n",
    "        return letter_text\n",
    "        \n",
    "    "
   ]
  },
  {
   "cell_type": "code",
   "execution_count": 219,
   "id": "72ef904e",
   "metadata": {},
   "outputs": [],
   "source": [
    "def get_text_from_multipart(payload):\n",
    "    for pl in payload: \n",
    "        count=0\n",
    "        if pl.is_multipart():            \n",
    "            level = pl.get_payload()        \n",
    "            for part in level:\n",
    "                if part.get_content_maintype() == 'text' and count == 0:         \n",
    "                    letter_text = decode_text(part)\n",
    "                    count += 1                                        \n",
    "        else:        \n",
    "            if pl.get_content_maintype() == 'text' and count == 0:           \n",
    "                letter_text = decode_text(pl)                     \n",
    "        return letter_text"
   ]
  },
  {
   "cell_type": "code",
   "execution_count": 247,
   "id": "64b1bce2",
   "metadata": {},
   "outputs": [
    {
     "name": "stdout",
     "output_type": "stream",
     "text": [
      "ii\n"
     ]
    },
    {
     "data": {
      "text/plain": [
       "'Добрый вечер! 16 сентября на набережной Казанки состоится турнир по петанку. Турнир станет частью масштабной программы Дней парков и скверов, закрывающей сезон летних мероприятий. Подробнее — в пресс-релизе. \\nДобрый вечер!\\n \\n16 сентября на набережной Казанки состоится турнир по петанку. Турнир станет частью масштабной программы Дней парков и скверов, закрывающей сезон летних мероприятий. Подробнее — в пресс-релизе.\\n \\n-- \\nКонтакты для связи:\\nДиляра Галеева, \\nпресс-секретарь Наталии Фишман-Бекмамбетовой,\\nруководитель пресс-службы Фонда \"Институт развития городов РТ\"\\n+79172778334\\n \\n'"
      ]
     },
     "execution_count": 247,
     "metadata": {},
     "output_type": "execute_result"
    }
   ],
   "source": [
    "get_text_from_multipart(payload)"
   ]
  },
  {
   "cell_type": "code",
   "execution_count": 255,
   "id": "8b5c12f9",
   "metadata": {},
   "outputs": [
    {
     "name": "stdout",
     "output_type": "stream",
     "text": [
      "<div><div>Добрый вечер!</div><div> </div><div>16 сентября на набережной Казанки состоится турнир по петанку. Турнир станет частью масштабной программы Дней парков и скверов, закрывающей сезон летних мероприятий. Подробнее — в пресс-релизе.</div><div> </div></div><div><strong>-- </strong></div><div style=\"background-color:rgb( 255 , 255 , 255 );color:rgb( 0 , 0 , 0 );font-family:'calibri' , sans-serif;font-size:11pt;font-style:normal;font-weight:400;line-height:normal;margin:0cm;text-decoration-style:initial;text-indent:0px;text-transform:none;white-space:normal;word-spacing:0px\"><strong><span style=\"color:black;font-size:12pt\">Контакты для связи:</span></strong></div><div style=\"background-color:rgb( 255 , 255 , 255 );color:rgb( 0 , 0 , 0 );font-family:'calibri' , sans-serif;font-size:11pt;font-style:normal;font-weight:400;line-height:normal;margin:0cm;text-decoration-style:initial;text-indent:0px;text-transform:none;white-space:normal;word-spacing:0px\"><span style=\"color:black;font-size:12pt\">Диляра Галеева, </span></div><div style=\"background-color:rgb( 255 , 255 , 255 );color:rgb( 0 , 0 , 0 );font-family:'calibri' , sans-serif;font-size:11pt;font-style:normal;font-weight:400;line-height:normal;margin:0cm;text-decoration-style:initial;text-indent:0px;text-transform:none;white-space:normal;word-spacing:0px\">пресс-секретарь Наталии Фишман-Бекмамбетовой,</div><div style=\"background-color:rgb( 255 , 255 , 255 );color:rgb( 0 , 0 , 0 );font-family:'calibri' , sans-serif;font-size:11pt;font-style:normal;font-weight:400;line-height:normal;margin:0cm;text-decoration-style:initial;text-indent:0px;text-transform:none;white-space:normal;word-spacing:0px\">руководитель пресс-службы Фонда \"Институт развития городов РТ\"</div><div style=\"background-color:rgb( 255 , 255 , 255 );color:rgb( 0 , 0 , 0 );font-family:'calibri' , sans-serif;font-size:11pt;font-style:normal;font-weight:400;line-height:normal;margin:0cm;text-decoration-style:initial;text-indent:0px;text-transform:none;white-space:normal;word-spacing:0px\"><span style=\"color:black;font-size:12pt\">+79172778334</span></div><div> </div>\n",
      "ii\n"
     ]
    }
   ],
   "source": [
    "for pl in payload: \n",
    "    count=0\n",
    "    if pl.is_multipart():            \n",
    "        level = pl.get_payload()        \n",
    "        for part in level:\n",
    "            if part.get_content_maintype() == 'text' and count == 0:         \n",
    "                letter_text = decode_text(part)\n",
    "                count += 1                                        \n",
    "    else:        \n",
    "        if pl.get_content_maintype() == 'text' and count == 0:\n",
    "            print(base64.b64decode(pl.get_payload()).decode())\n",
    "            letter_text = decode_text(pl)                     \n",
    "    "
   ]
  },
  {
   "cell_type": "code",
   "execution_count": 252,
   "id": "85175f03",
   "metadata": {},
   "outputs": [
    {
     "data": {
      "text/plain": [
       "'Добрый вечер! 16 сентября на набережной Казанки состоится турнир по петанку. Турнир станет частью масштабной программы Дней парков и скверов, закрывающей сезон летних мероприятий. Подробнее — в пресс-релизе. \\nДобрый вечер!\\n \\n16 сентября на набережной Казанки состоится турнир по петанку. Турнир станет частью масштабной программы Дней парков и скверов, закрывающей сезон летних мероприятий. Подробнее — в пресс-релизе.\\n \\n-- \\nКонтакты для связи:\\nДиляра Галеева, \\nпресс-секретарь Наталии Фишман-Бекмамбетовой,\\nруководитель пресс-службы Фонда \"Институт развития городов РТ\"\\n+79172778334\\n \\n'"
      ]
     },
     "execution_count": 252,
     "metadata": {},
     "output_type": "execute_result"
    }
   ],
   "source": [
    "letter_text"
   ]
  },
  {
   "cell_type": "code",
   "execution_count": null,
   "id": "593b3d7a",
   "metadata": {},
   "outputs": [],
   "source": []
  },
  {
   "cell_type": "code",
   "execution_count": 119,
   "id": "18ca1f0e",
   "metadata": {},
   "outputs": [
    {
     "name": "stdout",
     "output_type": "stream",
     "text": [
      "True\n",
      "content main sub  multipart alternative\n",
      "multipart/alternative;\r\n",
      "\tboundary=\"--ALT--c9B7c55f14c90A9F252A4b12Ff8E28d21662632529\"\n",
      "<class 'str'>\n",
      "2 main sub  text plain\n",
      "Content-Type\n"
     ]
    },
    {
     "ename": "AttributeError",
     "evalue": "'str' object has no attribute 'is_multipart'",
     "output_type": "error",
     "traceback": [
      "\u001b[0;31m---------------------------------------------------------------------------\u001b[0m",
      "\u001b[0;31mAttributeError\u001b[0m                            Traceback (most recent call last)",
      "\u001b[0;32m/tmp/ipykernel_222/3818459522.py\u001b[0m in \u001b[0;36m<module>\u001b[0;34m\u001b[0m\n\u001b[1;32m     12\u001b[0m             \u001b[0mprint\u001b[0m\u001b[0;34m(\u001b[0m\u001b[0;34m'2 main sub '\u001b[0m\u001b[0;34m,\u001b[0m \u001b[0mlevel\u001b[0m\u001b[0;34m.\u001b[0m\u001b[0mget_content_maintype\u001b[0m\u001b[0;34m(\u001b[0m\u001b[0;34m)\u001b[0m\u001b[0;34m,\u001b[0m \u001b[0mlevel\u001b[0m\u001b[0;34m.\u001b[0m\u001b[0mget_content_subtype\u001b[0m\u001b[0;34m(\u001b[0m\u001b[0;34m)\u001b[0m\u001b[0;34m)\u001b[0m\u001b[0;34m\u001b[0m\u001b[0;34m\u001b[0m\u001b[0m\n\u001b[1;32m     13\u001b[0m             \u001b[0;32mif\u001b[0m \u001b[0mlen\u001b[0m\u001b[0;34m(\u001b[0m\u001b[0mtypes\u001b[0m\u001b[0;34m)\u001b[0m \u001b[0;34m==\u001b[0m \u001b[0;36m0\u001b[0m\u001b[0;34m:\u001b[0m \u001b[0;31m#чтобы два раза не собиралась письмо\u001b[0m\u001b[0;34m\u001b[0m\u001b[0;34m\u001b[0m\u001b[0m\n\u001b[0;32m---> 14\u001b[0;31m                 \u001b[0mprint\u001b[0m\u001b[0;34m(\u001b[0m\u001b[0mget_text_from_multipart\u001b[0m\u001b[0;34m(\u001b[0m\u001b[0mlevel\u001b[0m\u001b[0;34m)\u001b[0m\u001b[0;34m)\u001b[0m\u001b[0;34m\u001b[0m\u001b[0;34m\u001b[0m\u001b[0m\n\u001b[0m\u001b[1;32m     15\u001b[0m             \u001b[0mhl\u001b[0m\u001b[0;34m=\u001b[0m\u001b[0mlevel\u001b[0m\u001b[0;34m[\u001b[0m\u001b[0;34m\"Content-Type\"\u001b[0m\u001b[0;34m]\u001b[0m\u001b[0;34m\u001b[0m\u001b[0;34m\u001b[0m\u001b[0m\n\u001b[1;32m     16\u001b[0m             \u001b[0mtypes\u001b[0m\u001b[0;34m.\u001b[0m\u001b[0mappend\u001b[0m\u001b[0;34m(\u001b[0m\u001b[0mhl\u001b[0m\u001b[0;34m)\u001b[0m\u001b[0;34m\u001b[0m\u001b[0;34m\u001b[0m\u001b[0m\n",
      "\u001b[0;32m/tmp/ipykernel_222/3182799013.py\u001b[0m in \u001b[0;36mget_text_from_multipart\u001b[0;34m(payload)\u001b[0m\n\u001b[1;32m      2\u001b[0m     \u001b[0;32mfor\u001b[0m \u001b[0mpl\u001b[0m \u001b[0;32min\u001b[0m \u001b[0mpayload\u001b[0m\u001b[0;34m:\u001b[0m\u001b[0;34m\u001b[0m\u001b[0;34m\u001b[0m\u001b[0m\n\u001b[1;32m      3\u001b[0m         \u001b[0mprint\u001b[0m\u001b[0;34m(\u001b[0m\u001b[0mpl\u001b[0m\u001b[0;34m)\u001b[0m\u001b[0;34m\u001b[0m\u001b[0;34m\u001b[0m\u001b[0m\n\u001b[0;32m----> 4\u001b[0;31m         \u001b[0;32mif\u001b[0m \u001b[0mpl\u001b[0m\u001b[0;34m.\u001b[0m\u001b[0mis_multipart\u001b[0m\u001b[0;34m(\u001b[0m\u001b[0;34m)\u001b[0m\u001b[0;34m:\u001b[0m\u001b[0;34m\u001b[0m\u001b[0;34m\u001b[0m\u001b[0m\n\u001b[0m\u001b[1;32m      5\u001b[0m             \u001b[0mcount\u001b[0m\u001b[0;34m=\u001b[0m\u001b[0;36m0\u001b[0m\u001b[0;34m\u001b[0m\u001b[0;34m\u001b[0m\u001b[0m\n\u001b[1;32m      6\u001b[0m             \u001b[0;32mfor\u001b[0m \u001b[0mpart\u001b[0m \u001b[0;32min\u001b[0m \u001b[0mpl\u001b[0m\u001b[0;34m:\u001b[0m\u001b[0;34m\u001b[0m\u001b[0;34m\u001b[0m\u001b[0m\n",
      "\u001b[0;31mAttributeError\u001b[0m: 'str' object has no attribute 'is_multipart'"
     ]
    }
   ],
   "source": [
    "#текст письма\n",
    "for pl in payload:    \n",
    "    print(pl.is_multipart())\n",
    "    print('content main sub ', pl.get_content_maintype(), pl.get_content_subtype())\n",
    "    print(pl[\"Content-Type\"])\n",
    "    \n",
    "    if pl.is_multipart():                \n",
    "        next_level=pl.get_payload()\n",
    "        types=[]\n",
    "        for level in next_level:\n",
    "            print(type(level[\"Content-Type\"]))\n",
    "            print('2 main sub ', level.get_content_maintype(), level.get_content_subtype())\n",
    "            if len(types) == 0: #чтобы два раза не собиралась письмо                \n",
    "                print(get_text_from_multipart(level))\n",
    "            hl=level[\"Content-Type\"]\n",
    "            types.append(hl)                  \n",
    "    if 'name' in pl[\"Content-Type\"] and pl.get_content_disposition() == 'attachment':               \n",
    "        str_pl=pl[\"Content-Type\"]               \n",
    "        str_pl=encode_att_names(str_pl)\n",
    "        attachments.append(str_pl)\n",
    "        print(str_pl)\n",
    "    else:\n",
    "        pass\n",
    "        print(pl[\"Content-Type\"])"
   ]
  },
  {
   "cell_type": "code",
   "execution_count": 130,
   "id": "5cc55f44",
   "metadata": {},
   "outputs": [],
   "source": [
    "letter=base64.b64decode(payload).decode()"
   ]
  },
  {
   "cell_type": "code",
   "execution_count": 131,
   "id": "3e52c41d",
   "metadata": {},
   "outputs": [
    {
     "data": {
      "text/plain": [
       "'<div><div><strong>Мошенники позвали жителей Нижнекамска на кастинг в массовку новой экранизации Кира Булычева</strong></div></div><div>\\xa0</div><div><div>В одном из пабликов Нижнекамска появился пост о набор массовки для фильма «Сто лет тому вперёд». Соискателей просят отправлять личные данные на электронную почту.</div><div>\\xa0</div><div>Поиск по соцсети «ВКонтакте» показал, что точно такие же посты появились в группах Анапы, Геленджика, Новороссийска, Москвы, Тюмени. Пользователи, которые отправили заявки на почту, пишут, что их якобы утвердили на роль и попросили перевести деньги на изготовление «индивидуальной карты актёра».</div><div>\\xa0</div><div>НТР 24 обратился в кинокомпанию «Водород», которая, согласно данным из открытых источником, занимается производством фильма. Там заявили, что не размещали таких объявлений.</div><div>\\xa0</div><div>«Со своей стороны, Кинокомпания \"Водород\" намерена предпринять меры, направленные на пресечение подобного рода мошеннических действий».</div><div>\\xa0</div><div>Фильм «Сто лет тому вперед» по одноименной повести Кира Булычева был анонсирован еще в 2021 году. В июле этого года сообщалось, что съемки планируется начать в сентябре.</div><div>\\xa0</div><div>По сюжету фильма, в 2074 году космические пираты охотятся за уникальным артефактом, который достается современному школьнику Коле. Вместе с Алисой Селезневой он должен будет спасти галактику.</div></div>'"
      ]
     },
     "execution_count": 131,
     "metadata": {},
     "output_type": "execute_result"
    }
   ],
   "source": [
    "letter"
   ]
  },
  {
   "cell_type": "code",
   "execution_count": null,
   "id": "8c5f76f4",
   "metadata": {},
   "outputs": [],
   "source": []
  }
 ],
 "metadata": {
  "kernelspec": {
   "display_name": "Python 3 (ipykernel)",
   "language": "python",
   "name": "python3"
  },
  "language_info": {
   "codemirror_mode": {
    "name": "ipython",
    "version": 3
   },
   "file_extension": ".py",
   "mimetype": "text/x-python",
   "name": "python",
   "nbconvert_exporter": "python",
   "pygments_lexer": "ipython3",
   "version": "3.9.7"
  }
 },
 "nbformat": 4,
 "nbformat_minor": 5
}
