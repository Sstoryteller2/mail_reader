{
 "cells": [
  {
   "cell_type": "code",
   "execution_count": 1,
   "id": "57f76f5b",
   "metadata": {},
   "outputs": [],
   "source": [
    "import imaplib\n",
    "import email\n",
    "from email.header import decode_header\n",
    "import webbrowser\n",
    "import os\n",
    "import traceback\n",
    "import base64\n",
    "from bs4 import BeautifulSoup\n",
    "import config\n",
    "import functions\n",
    "import re"
   ]
  },
  {
   "cell_type": "code",
   "execution_count": 2,
   "id": "15106ad7",
   "metadata": {},
   "outputs": [],
   "source": [
    "def connection():\n",
    "    mail_pass = config.mail_pass\n",
    "    username = config.username\n",
    "    imap_server = \"imap.mail.ru\"\n",
    "    imap = imaplib.IMAP4_SSL(imap_server)\n",
    "    sts, res = imap.login(username, mail_pass)\n",
    "    print(res)\n",
    "    if sts == \"OK\":\n",
    "        return imap\n",
    "    else:\n",
    "        return False\n",
    "\n",
    "\n",
    "def encoded_words_to_text(encoded_words):\n",
    "    # encoded_words=encoded_words.replace(\"\\n\", \"\").replace(\"\\r\", \"\").replace(\"\\t\", \"\").replace(\" \", \"\")\n",
    "    encoded_word_regex = r\"=\\?{1}(.+)\\?{1}([B|Q])\\?{1}(.+)\\?{1}=\"\n",
    "    charset, encoding, encoded_text = re.match(\n",
    "        encoded_word_regex, encoded_words\n",
    "    ).groups()\n",
    "    if encoding == \"B\":\n",
    "        byte_string = base64.b64decode(encoded_text)\n",
    "    elif encoding == \"Q\":\n",
    "        byte_string = quopri.decodestring(encoded_text)\n",
    "    return byte_string.decode(charset)\n",
    "\n",
    "\n",
    "def get_attaches(msg):\n",
    "    attaches = list()\n",
    "    for part in msg.walk():\n",
    "        if part.get_content_disposition() == \"attachment\":\n",
    "            if \"pdf\" in part.get_content_type():\n",
    "                attaches.append(pdf_to_str(part.get_payload(decode=True)))\n",
    "    if attaches:\n",
    "        return attaches\n",
    "    else:\n",
    "        return [False]\n",
    "\n",
    "\n",
    "def date_parse(msg_date):\n",
    "    dt_obj = \"\".join(str(msg_date[:6]))\n",
    "    dt_obj = dt_obj.strip(\"'(),\")\n",
    "    dt_obj = datetime.strptime(dt_obj, \"%Y, %m, %d, %H, %M, %S\")\n",
    "    return dt_obj\n",
    "\n",
    "\n",
    "def pdf_to_str(pdf):\n",
    "    all_doc = \"\"\n",
    "    try:\n",
    "        with io.BytesIO(pdf) as open_pdf_file:\n",
    "            read_pdf = PyPDF2.PdfFileReader(open_pdf_file)\n",
    "            num_pages = read_pdf.getNumPages()\n",
    "            for page in read_pdf.pages:\n",
    "                page_content = page\n",
    "                all_doc += page_content.extractText()\n",
    "            return all_doc\n",
    "    except:\n",
    "        return False\n",
    "\n",
    "async def send_message(bot_token, message, chat, rpl=None, prv=None):\n",
    "    bot = Bot(token=bot_token)\n",
    "    await bot.get_session()\n",
    "    obj = await bot.send_message(\n",
    "        chat_id=chat,\n",
    "        text=message,\n",
    "        parse_mode=\"HTML\",\n",
    "        reply_to_message_id=rpl,\n",
    "        disable_web_page_preview=prv,\n",
    "    )\n",
    "    await bot._session.close()\n",
    "    return obj.message_id\n",
    "\n",
    "def get_letter_text(body):   \n",
    "    soup = BeautifulSoup(body, 'html.parser')\n",
    "    paragraphs = soup.find_all('div')\n",
    "    text=\"\"\n",
    "    for paragraph in paragraphs:\n",
    "        text += paragraph.text + \"\\n\"    \n",
    "    return text.replace('\\xa0', ' ')\n",
    "\n",
    "def get_text_from_multipart(msg):\n",
    "    payload = msg.get_payload()[0]\n",
    "    print(payload[\"Content-Type\"])\n",
    "    if \"text/plain\" in payload[\"Content-Type\"]:\n",
    "        letter_text = (\n",
    "            (base64.b64decode(payload.get_payload()).decode())\n",
    "            .lstrip()\n",
    "            .rstrip()\n",
    "        )\n",
    "        letter_text = letter_text.replace(\"<\",\"\").replace(\">\",\"\")       \n",
    "    if \"text/html\" in payload[\"Content-Type\"]:\n",
    "        letter_text = (\n",
    "            (base64.b64decode(payload.get_payload()).decode())\n",
    "            .lstrip()\n",
    "            .rstrip()\n",
    "        )\n",
    "        letter_text=get_letter_text(letter_text)\n",
    "    if \"multipart\" in payload[\"Content-Type\"]:\n",
    "        letter_text = (\n",
    "            (\n",
    "                base64.b64decode(\n",
    "                    payload.get_payload()[0].get_payload()\n",
    "                ).decode()\n",
    "            )\n",
    "            .lstrip()\n",
    "            .rstrip()\n",
    "        )\n",
    "    return letter_text\n",
    "\n",
    "def post_construct(msg_subj, msg_from, msg_email, letter_text, att_files):\n",
    "    txt = \"\"\n",
    "    txt += (\n",
    "        \"<b>\"\n",
    "        + str(msg_subj)\n",
    "        + \"</b>\"\n",
    "        + \"\\n\\n\"\n",
    "        + str(msg_from)\n",
    "        + \"\\n\"\n",
    "        + msg_email\n",
    "        + \"\\n\"\n",
    "        + letter_text\n",
    "        + \"\\n\"\n",
    "        + \"вложения pdf: \"\n",
    "        + str(att_files)\n",
    "    )\n",
    "    return txt"
   ]
  },
  {
   "cell_type": "code",
   "execution_count": 43,
   "id": "c42870d6",
   "metadata": {},
   "outputs": [
    {
     "name": "stdout",
     "output_type": "stream",
     "text": [
      "[b'Authentication successful']\n"
     ]
    }
   ],
   "source": [
    "imap = connection()"
   ]
  },
  {
   "cell_type": "code",
   "execution_count": 44,
   "id": "6d75b44b",
   "metadata": {},
   "outputs": [],
   "source": [
    "status, messages = imap.select(\"INBOX\")  # папка входящие\n",
    "res, unseen_msg = imap.uid('search', \"UNSEEN\", \"ALL\")\n",
    "unseen_msg = unseen_msg[0].decode(\"utf-8\").split(\" \")"
   ]
  },
  {
   "cell_type": "code",
   "execution_count": 45,
   "id": "cb34a168",
   "metadata": {},
   "outputs": [
    {
     "name": "stdout",
     "output_type": "stream",
     "text": [
      "['10']\n"
     ]
    }
   ],
   "source": [
    "if unseen_msg[0]:\n",
    "    print(unseen_msg)\n",
    "else:\n",
    "    print('there are no unseen messages')"
   ]
  },
  {
   "cell_type": "code",
   "execution_count": 46,
   "id": "4a8a75d2",
   "metadata": {},
   "outputs": [
    {
     "name": "stdout",
     "output_type": "stream",
     "text": [
      "10\n",
      "multipart\n"
     ]
    }
   ],
   "source": [
    "for letter in unseen_msg:\n",
    "    print(letter)\n",
    "    attachments=[]\n",
    "    res, msg = imap.uid('fetch', letter, '(RFC822)')\n",
    "    msg = email.message_from_bytes(msg[0][1]) # получаем объект email\n",
    "    if msg.is_multipart():\n",
    "        print('multipart')                          \n",
    "    else:\n",
    "        print('single')                "
   ]
  },
  {
   "cell_type": "code",
   "execution_count": 429,
   "id": "81aba65b",
   "metadata": {},
   "outputs": [],
   "source": [
    "letter=str(24)\n",
    "res, msg = imap.uid('fetch', letter, '(RFC822)')\n",
    "msg = email.message_from_bytes(msg[0][1]) # получаем объект email"
   ]
  },
  {
   "cell_type": "code",
   "execution_count": null,
   "id": "18856ab3",
   "metadata": {},
   "outputs": [],
   "source": []
  },
  {
   "cell_type": "code",
   "execution_count": 47,
   "id": "711dd68d",
   "metadata": {},
   "outputs": [
    {
     "name": "stdout",
     "output_type": "stream",
     "text": [
      "Content-Type\n",
      "Content-Transfer-Encoding\n"
     ]
    }
   ],
   "source": [
    "from email.policy import default as default_policy\n",
    "res, msg = imap.uid('fetch', letter, '(RFC822)')\n",
    "msg = email.message_from_bytes(msg[0][1], policy=default_policy)\n",
    "body=msg.get_body('plain')\n",
    "for row in body:\n",
    "    print(row)"
   ]
  },
  {
   "cell_type": "code",
   "execution_count": 48,
   "id": "62144ade",
   "metadata": {},
   "outputs": [
    {
     "data": {
      "text/plain": [
       "b'19 (UID 28 RFC822 {110401}'"
      ]
     },
     "execution_count": 48,
     "metadata": {},
     "output_type": "execute_result"
    }
   ],
   "source": [
    "res, msg_0 = imap.uid('fetch', letter, '(RFC822)')\n",
    "msg_0[0][0] # Что это за цифры? 15814\n",
    "b'19 (UID 28 RFC822 {110401}'"
   ]
  },
  {
   "cell_type": "code",
   "execution_count": 49,
   "id": "eefdc073",
   "metadata": {},
   "outputs": [],
   "source": [
    "#multipart\n",
    "payload = msg.get_payload() #список, состоит из нескольких частей"
   ]
  },
  {
   "cell_type": "code",
   "execution_count": 50,
   "id": "3cd1ebfc",
   "metadata": {},
   "outputs": [
    {
     "data": {
      "text/plain": [
       "[<email.message.EmailMessage at 0x7f101c2a9880>,\n",
       " <email.message.EmailMessage at 0x7f0ff4d685b0>]"
      ]
     },
     "execution_count": 50,
     "metadata": {},
     "output_type": "execute_result"
    }
   ],
   "source": [
    "payload"
   ]
  },
  {
   "cell_type": "code",
   "execution_count": 51,
   "id": "1d2e3007",
   "metadata": {},
   "outputs": [],
   "source": [
    "def get_text_from_multipart(payload):\n",
    "    #payload = msg.get_payload()    \n",
    "    print(payload[\"Content-Type\"])\n",
    "    if payload.is_multipart():\n",
    "        print('m')\n",
    "        letter_text = (\n",
    "            (\n",
    "                base64.b64decode(\n",
    "                    payload.get_payload()[0].get_payload()\n",
    "                ).decode()\n",
    "            )\n",
    "            .lstrip()\n",
    "            .rstrip()\n",
    "        )\n",
    "        \n",
    "    elif \"text/plain\" in payload[\"Content-Type\"]:\n",
    "        print('i')\n",
    "        letter_text = (\n",
    "            (base64.b64decode(payload.get_payload()).decode())\n",
    "            .lstrip()\n",
    "            .rstrip()\n",
    "        )\n",
    "        letter_text = letter_text.replace(\"<\",\"\").replace(\">\",\"\")\n",
    "        \n",
    "    \n",
    "    elif \"text/html\" in payload[\"Content-Type\"]:\n",
    "        print('ii')\n",
    "        letter_text = (\n",
    "            (base64.b64decode(payload.get_payload()).decode())\n",
    "            .lstrip()\n",
    "            .rstrip()\n",
    "        )        \n",
    "        letter_text=get_letter_text(letter_text)                     \n",
    "    return letter_text"
   ]
  },
  {
   "cell_type": "code",
   "execution_count": 31,
   "id": "4bb41f78",
   "metadata": {},
   "outputs": [],
   "source": [
    "def encode_att_names(str_pl):\n",
    "    enode_name=re.findall('\\=\\?.*?\\?\\=', str_pl)        \n",
    "    if len(enode_name) == 1:            \n",
    "        decode_name=(decode_header(enode_name[0])[0][0])            \n",
    "        decode_name=decode_name.decode(\"utf-8\")            \n",
    "        str_pl=str_pl.replace(enode_name[0], decode_name)\n",
    "    if len(enode_name) > 1:             \n",
    "        nm=''\n",
    "        for part in enode_name:                \n",
    "            decode_name=(decode_header(part)[0][0])                        \n",
    "            decode_name=decode_name.decode(\"utf-8\")\n",
    "            nm+=decode_name            \n",
    "        str_pl=str_pl.replace(enode_name[0], nm)    \n",
    "        for c, i in enumerate(enode_name):           \n",
    "            if c > 0:                \n",
    "                str_pl=str_pl.replace(enode_name[c], \"\").replace(\"\\\"\",'').rstrip()\n",
    "    return str_pl  "
   ]
  },
  {
   "cell_type": "code",
   "execution_count": 54,
   "id": "b93c5ba7",
   "metadata": {},
   "outputs": [
    {
     "name": "stdout",
     "output_type": "stream",
     "text": [
      "True\n",
      "None alternative\n",
      "multipart/alternative; boundary=\"--ALT--e8Ba165B7Df82f9b309b135Ba6F5eEb81662683293\"\n",
      "<class 'email.headerregistry._ContentTypeHeader'>\n",
      "text/plain; charset=\"utf-8\"\n",
      "i\n",
      "Ещё одна проверка \n",
      " \n",
      "С уважением,\n",
      "Александр Третьяков,\n",
      "\n",
      "+7 917 222 86 02\n",
      "<class 'email.headerregistry._ContentTypeHeader'>\n",
      "multipart/alternative; boundary=\"--ALT--e8Ba165B7Df82f9b309b135Ba6F5eEb81662683293\"\n",
      "False\n",
      "attachment pdf\n",
      "application/pdf; name=\"Бланк согласие на грипп.pdf\"\n",
      "application/pdf; name=\"Бланк согласие на грипп.pdf\"\n"
     ]
    }
   ],
   "source": [
    "attachments=list()  \n",
    "for pl in payload:\n",
    "    \n",
    "    print(pl.is_multipart())\n",
    "    print(pl.get_content_disposition(), pl.get_content_subtype())\n",
    "    print(pl[\"Content-Type\"])\n",
    "    \n",
    "    if pl.is_multipart():                \n",
    "        next_level=pl.get_payload()\n",
    "        types=[]\n",
    "        for level in next_level:\n",
    "            print(type(level[\"Content-Type\"]))            \n",
    "            if len(types) == 0: #чтобы два раза не собиралась письмо                \n",
    "                print(get_text_from_multipart(level))\n",
    "            hl=level[\"Content-Type\"]\n",
    "            types.append(hl)                  \n",
    "    if 'name' in pl[\"Content-Type\"] and pl.get_content_disposition() == 'attachment':               \n",
    "        str_pl=pl[\"Content-Type\"]               \n",
    "        str_pl=encode_att_names(str_pl)\n",
    "        attachments.append(str_pl)\n",
    "        print(str_pl)\n",
    "    else:\n",
    "        pass\n",
    "        print(pl[\"Content-Type\"])"
   ]
  },
  {
   "cell_type": "code",
   "execution_count": 57,
   "id": "2fd253e7",
   "metadata": {},
   "outputs": [
    {
     "data": {
      "text/plain": [
       "['application/pdf; name=\"Бланк согласие на грипп.pdf\"']"
      ]
     },
     "execution_count": 57,
     "metadata": {},
     "output_type": "execute_result"
    }
   ],
   "source": [
    "attachments"
   ]
  },
  {
   "cell_type": "code",
   "execution_count": 56,
   "id": "80ab0808",
   "metadata": {},
   "outputs": [],
   "source": [
    "def get_attachments():\n",
    "    payload = msg.get_payload()\n",
    "    attachments=list()  \n",
    "    for pl in payload:\n",
    "        if 'name' in pl[\"Content-Type\"] and pl.get_content_disposition() == 'attachment':               \n",
    "            str_pl=pl[\"Content-Type\"]               \n",
    "            str_pl=encode_att_names(str_pl)\n",
    "            attachments.append(str_pl)\n",
    "    return attachments"
   ]
  },
  {
   "cell_type": "code",
   "execution_count": 59,
   "id": "96013eab",
   "metadata": {},
   "outputs": [],
   "source": [
    "att_txt=\"\"\n",
    "for atts in attachments:\n",
    "    att_txt+=(atts.strip()+\"\\n\")\n",
    "\n",
    "    "
   ]
  },
  {
   "cell_type": "code",
   "execution_count": 60,
   "id": "6a6de44f",
   "metadata": {},
   "outputs": [
    {
     "data": {
      "text/plain": [
       "'application/pdf; name=\"Бланк согласие на грипп.pdf\"\\n'"
      ]
     },
     "execution_count": 60,
     "metadata": {},
     "output_type": "execute_result"
    }
   ],
   "source": [
    "att_txt"
   ]
  },
  {
   "cell_type": "code",
   "execution_count": null,
   "id": "eed47b08",
   "metadata": {},
   "outputs": [],
   "source": []
  }
 ],
 "metadata": {
  "kernelspec": {
   "display_name": "Python 3 (ipykernel)",
   "language": "python",
   "name": "python3"
  },
  "language_info": {
   "codemirror_mode": {
    "name": "ipython",
    "version": 3
   },
   "file_extension": ".py",
   "mimetype": "text/x-python",
   "name": "python",
   "nbconvert_exporter": "python",
   "pygments_lexer": "ipython3",
   "version": "3.9.7"
  }
 },
 "nbformat": 4,
 "nbformat_minor": 5
}
