{
 "cells": [
  {
   "cell_type": "code",
   "execution_count": 1,
   "id": "2039fc9e",
   "metadata": {},
   "outputs": [],
   "source": [
    "import imaplib\n",
    "import email\n",
    "from email.header import decode_header\n",
    "import base64\n",
    "from bs4 import BeautifulSoup\n",
    "import re\n",
    "\n",
    "import config"
   ]
  },
  {
   "cell_type": "markdown",
   "id": "0c311d53",
   "metadata": {},
   "source": [
    "# Подключаемся к серверу, логинимся"
   ]
  },
  {
   "cell_type": "code",
   "execution_count": 113,
   "id": "87690481",
   "metadata": {},
   "outputs": [
    {
     "data": {
      "text/plain": [
       "('OK', [b'Authentication successful'])"
      ]
     },
     "execution_count": 113,
     "metadata": {},
     "output_type": "execute_result"
    }
   ],
   "source": [
    "mail_pass = config.mail_pass\n",
    "username = config.username\n",
    "imap_server = \"imap.mail.ru\"\n",
    "imap = imaplib.IMAP4_SSL(imap_server)\n",
    "imap.login(username, mail_pass)"
   ]
  },
  {
   "cell_type": "markdown",
   "id": "eeccdc56",
   "metadata": {},
   "source": [
    "## Выбираем папку"
   ]
  },
  {
   "cell_type": "code",
   "execution_count": 114,
   "id": "22c889cd",
   "metadata": {},
   "outputs": [
    {
     "data": {
      "text/plain": [
       "('OK', [b'20'])"
      ]
     },
     "execution_count": 114,
     "metadata": {},
     "output_type": "execute_result"
    }
   ],
   "source": [
    "imap.select(\"INBOX\")"
   ]
  },
  {
   "cell_type": "markdown",
   "id": "3672ed28",
   "metadata": {},
   "source": [
    "### Выбираем все письма, получаем порядковые номера"
   ]
  },
  {
   "cell_type": "code",
   "execution_count": 15,
   "id": "322180d7",
   "metadata": {},
   "outputs": [
    {
     "data": {
      "text/plain": [
       "('OK', [b'1 2 3 4 5 6 7 8 9 10 11 12 13 14 15 16 17 18 19 20'])"
      ]
     },
     "execution_count": 15,
     "metadata": {},
     "output_type": "execute_result"
    }
   ],
   "source": [
    "imap.search(None, 'ALL')"
   ]
  },
  {
   "cell_type": "code",
   "execution_count": 9,
   "id": "47d7acc4",
   "metadata": {},
   "outputs": [
    {
     "name": "stdout",
     "output_type": "stream",
     "text": [
      "NO [b'[CANNOT] Unsupported search criterion: FROM']\n"
     ]
    }
   ],
   "source": [
    "# M is a connected IMAP4 instance...\n",
    "typ, msgnums = imap.search(None, 'FROM', '\"LDJ\"')\n",
    "print(typ, msgnums)"
   ]
  },
  {
   "cell_type": "markdown",
   "id": "2112912e",
   "metadata": {},
   "source": [
    "### Выбираем непрочитанные письма, получаем их порядковые номера"
   ]
  },
  {
   "cell_type": "code",
   "execution_count": 16,
   "id": "be123c11",
   "metadata": {},
   "outputs": [
    {
     "data": {
      "text/plain": [
       "('OK', [b'12 16 19'])"
      ]
     },
     "execution_count": 16,
     "metadata": {},
     "output_type": "execute_result"
    }
   ],
   "source": [
    "imap.search(None, \"UNSEEN\")"
   ]
  },
  {
   "cell_type": "markdown",
   "id": "d4cc9c92",
   "metadata": {},
   "source": [
    "#### получаем UID непрочитанных писем"
   ]
  },
  {
   "cell_type": "code",
   "execution_count": 17,
   "id": "d47cc95c",
   "metadata": {},
   "outputs": [
    {
     "data": {
      "text/plain": [
       "('OK', [b'14 24 28'])"
      ]
     },
     "execution_count": 17,
     "metadata": {},
     "output_type": "execute_result"
    }
   ],
   "source": [
    "imap.uid('search', \"UNSEEN\", \"ALL\")"
   ]
  },
  {
   "cell_type": "markdown",
   "id": "959d1124",
   "metadata": {},
   "source": [
    "# открываем конкретное письмо (в этом примере 19 номер по порядку и UID-28)"
   ]
  },
  {
   "cell_type": "code",
   "execution_count": 116,
   "id": "9d1f71a9",
   "metadata": {},
   "outputs": [],
   "source": [
    "res, msg = imap.fetch(b'19', '(RFC822)')  #Для метода search по порядковому номеру письма\n",
    "res, msg = imap.uid('fetch', b'28', '(RFC822)')  #Для метода uid"
   ]
  },
  {
   "cell_type": "markdown",
   "id": "f9bbe3dc",
   "metadata": {},
   "source": [
    "### после этой операции письмо в ящике будет отмечено как прочитанное"
   ]
  },
  {
   "cell_type": "code",
   "execution_count": 84,
   "id": "49b38b00",
   "metadata": {},
   "outputs": [
    {
     "data": {
      "text/plain": [
       "b'19 (UID 28 RFC822 {110401}'"
      ]
     },
     "execution_count": 84,
     "metadata": {},
     "output_type": "execute_result"
    }
   ],
   "source": [
    "msg[0][0]"
   ]
  },
  {
   "cell_type": "markdown",
   "id": "1e872471",
   "metadata": {},
   "source": [
    "## получаем объект email из байтов"
   ]
  },
  {
   "cell_type": "code",
   "execution_count": 117,
   "id": "34ce8263",
   "metadata": {},
   "outputs": [
    {
     "data": {
      "text/plain": [
       "email.message.Message"
      ]
     },
     "execution_count": 117,
     "metadata": {},
     "output_type": "execute_result"
    }
   ],
   "source": [
    "msg = email.message_from_bytes(msg[0][1])\n",
    "type(msg)"
   ]
  },
  {
   "cell_type": "markdown",
   "id": "d6505171",
   "metadata": {},
   "source": [
    "## собираем информацию о письме"
   ]
  },
  {
   "cell_type": "code",
   "execution_count": 46,
   "id": "618ffb32",
   "metadata": {},
   "outputs": [
    {
     "name": "stdout",
     "output_type": "stream",
     "text": [
      "<class 'tuple'> <class 'str'> <1662997113.166751447@f221.i.mail.ru> <class 'str'>\n"
     ]
    }
   ],
   "source": [
    "letter_date = email.utils.parsedate_tz(msg[\"Date\"]) # дата получения, приходит в виде строки, дальше надо её парсить в формат datetime\n",
    "letter_id = msg[\"Message-ID\"] #айди письма\n",
    "letter_from = msg[\"Return-path\"] # e-mail отправителя\n",
    "\n",
    "print(type(letter_date), type(letter_id), letter_id, type(letter_from))"
   ]
  },
  {
   "cell_type": "code",
   "execution_count": 47,
   "id": "cc8b5cdc",
   "metadata": {},
   "outputs": [
    {
     "data": {
      "text/plain": [
       "'=?UTF-8?B?RndkOiDQn9GA0LjQs9C70LDRiNC10L3QuNC1INCyINC90L7QstGL0Lkg0KI=?=\\r\\n =?UTF-8?B?0LXRhdC90L7Qv9Cw0YDQuiDQsiDRgdGE0LXRgNC1INCy0YvRgdC+0LrQuNGF?=\\r\\n =?UTF-8?B?INGC0LXRhdC90L7Qu9C+0LPQuNC5IMKr0JjQoi3Qv9Cw0YDQusK7INC40Lw=?=\\r\\n =?UTF-8?B?0LXQvdC4INCRLtCg0LDQvNC10LXQstCwINC4INCc0LXQttC00YPQvdCw0YA=?=\\r\\n =?UTF-8?B?0L7QtNC90YvQuSBTdGFydHVwIEh1Yg==?='"
      ]
     },
     "execution_count": 47,
     "metadata": {},
     "output_type": "execute_result"
    }
   ],
   "source": [
    "msg[\"Subject\"] # тема письма написана кириллицей и закодирована в base64"
   ]
  },
  {
   "cell_type": "code",
   "execution_count": 48,
   "id": "3081afe9",
   "metadata": {},
   "outputs": [
    {
     "data": {
      "text/plain": [
       "[(b'Fwd: \\xd0\\x9f\\xd1\\x80\\xd0\\xb8\\xd0\\xb3\\xd0\\xbb\\xd0\\xb0\\xd1\\x88\\xd0\\xb5\\xd0\\xbd\\xd0\\xb8\\xd0\\xb5 \\xd0\\xb2 \\xd0\\xbd\\xd0\\xbe\\xd0\\xb2\\xd1\\x8b\\xd0\\xb9 \\xd0\\xa2\\xd0\\xb5\\xd1\\x85\\xd0\\xbd\\xd0\\xbe\\xd0\\xbf\\xd0\\xb0\\xd1\\x80\\xd0\\xba \\xd0\\xb2 \\xd1\\x81\\xd1\\x84\\xd0\\xb5\\xd1\\x80\\xd0\\xb5 \\xd0\\xb2\\xd1\\x8b\\xd1\\x81\\xd0\\xbe\\xd0\\xba\\xd0\\xb8\\xd1\\x85 \\xd1\\x82\\xd0\\xb5\\xd1\\x85\\xd0\\xbd\\xd0\\xbe\\xd0\\xbb\\xd0\\xbe\\xd0\\xb3\\xd0\\xb8\\xd0\\xb9 \\xc2\\xab\\xd0\\x98\\xd0\\xa2-\\xd0\\xbf\\xd0\\xb0\\xd1\\x80\\xd0\\xba\\xc2\\xbb \\xd0\\xb8\\xd0\\xbc\\xd0\\xb5\\xd0\\xbd\\xd0\\xb8 \\xd0\\x91.\\xd0\\xa0\\xd0\\xb0\\xd0\\xbc\\xd0\\xb5\\xd0\\xb5\\xd0\\xb2\\xd0\\xb0 \\xd0\\xb8 \\xd0\\x9c\\xd0\\xb5\\xd0\\xb6\\xd0\\xb4\\xd1\\x83\\xd0\\xbd\\xd0\\xb0\\xd1\\x80\\xd0\\xbe\\xd0\\xb4\\xd0\\xbd\\xd1\\x8b\\xd0\\xb9 Startup Hub',\n",
       "  'utf-8')]"
      ]
     },
     "execution_count": 48,
     "metadata": {},
     "output_type": "execute_result"
    }
   ],
   "source": [
    "decode_header(msg[\"Subject\"])"
   ]
  },
  {
   "cell_type": "code",
   "execution_count": 49,
   "id": "96cafa7d",
   "metadata": {},
   "outputs": [
    {
     "data": {
      "text/plain": [
       "'Fwd: Приглашение в новый Технопарк в сфере высоких технологий «ИТ-парк» имени Б.Рамеева и Международный Startup Hub'"
      ]
     },
     "execution_count": 49,
     "metadata": {},
     "output_type": "execute_result"
    }
   ],
   "source": [
    "decode_header(msg[\"Subject\"])[0][0].decode()"
   ]
  },
  {
   "cell_type": "code",
   "execution_count": 50,
   "id": "f90c1a07",
   "metadata": {},
   "outputs": [
    {
     "data": {
      "text/plain": [
       "('OK',\n",
       " [(b'16 (BODY[HEADER.FIELDS (SUBJECT)] {357}',\n",
       "   b'Subject: =?UTF-8?B?RndkOiDQn9GA0LjQs9C70LDRiNC10L3QuNC1INCyINC90L7QstGL0Lkg0KI=?=\\r\\n =?UTF-8?B?0LXRhdC90L7Qv9Cw0YDQuiDQsiDRgdGE0LXRgNC1INCy0YvRgdC+0LrQuNGF?=\\r\\n =?UTF-8?B?INGC0LXRhdC90L7Qu9C+0LPQuNC5IMKr0JjQoi3Qv9Cw0YDQusK7INC40Lw=?=\\r\\n =?UTF-8?B?0LXQvdC4INCRLtCg0LDQvNC10LXQstCwINC4INCc0LXQttC00YPQvdCw0YA=?=\\r\\n =?UTF-8?B?0L7QtNC90YvQuSBTdGFydHVwIEh1Yg==?=\\r\\n\\r\\n'),\n",
       "  b')'])"
      ]
     },
     "execution_count": 50,
     "metadata": {},
     "output_type": "execute_result"
    }
   ],
   "source": [
    "# получить тему письма можно и так, но всё равно нужно декодировать\n",
    "imap.fetch(b'16', \"(BODY[HEADER.FIELDS (Subject)])\")"
   ]
  },
  {
   "cell_type": "markdown",
   "id": "172cf758",
   "metadata": {},
   "source": [
    "# Получаем полезную нагрузку! Вложения и текст "
   ]
  },
  {
   "cell_type": "code",
   "execution_count": 89,
   "id": "53460f49",
   "metadata": {},
   "outputs": [
    {
     "data": {
      "text/plain": [
       "[<email.message.Message at 0x7fa054142730>,\n",
       " <email.message.Message at 0x7fa0541423d0>]"
      ]
     },
     "execution_count": 89,
     "metadata": {},
     "output_type": "execute_result"
    }
   ],
   "source": [
    "# в payload несколько объектов\n",
    "msg.get_payload()"
   ]
  },
  {
   "cell_type": "code",
   "execution_count": 90,
   "id": "030f51f2",
   "metadata": {},
   "outputs": [
    {
     "data": {
      "text/plain": [
       "True"
      ]
     },
     "execution_count": 90,
     "metadata": {},
     "output_type": "execute_result"
    }
   ],
   "source": [
    "# можно проверить и так:\n",
    "msg.is_multipart()"
   ]
  },
  {
   "cell_type": "code",
   "execution_count": 118,
   "id": "e59814fc",
   "metadata": {},
   "outputs": [
    {
     "name": "stdout",
     "output_type": "stream",
     "text": [
      "multipart/alternative\n",
      "application/pdf\n"
     ]
    }
   ],
   "source": [
    "# проходимся по частям обычным способом\n",
    "payload=msg.get_payload()\n",
    "for part in payload:\n",
    "    print(part.get_content_type())  "
   ]
  },
  {
   "cell_type": "code",
   "execution_count": 119,
   "id": "f9fb5a86",
   "metadata": {},
   "outputs": [
    {
     "name": "stdout",
     "output_type": "stream",
     "text": [
      "multipart/mixed\n",
      "multipart/alternative\n",
      "text/plain\n",
      "text/html\n",
      "application/pdf\n"
     ]
    }
   ],
   "source": [
    "# метод walk раскрывает составные части, и показывает что там есть\n",
    "for part in msg.walk():\n",
    "    print(part.get_content_type())"
   ]
  },
  {
   "cell_type": "code",
   "execution_count": 120,
   "id": "d3f367fc",
   "metadata": {},
   "outputs": [
    {
     "name": "stdout",
     "output_type": "stream",
     "text": [
      "multipart/alternative\n",
      "text/plain\n",
      "text/html\n",
      "application/pdf\n"
     ]
    }
   ],
   "source": [
    "# если стандартно проходится по частям, получается довольно громоздко \n",
    "payload=msg.get_payload()\n",
    "for part in payload:\n",
    "    print(part.get_content_type())\n",
    "    if part.is_multipart():\n",
    "        level=part.get_payload()\n",
    "        for l_part in level:\n",
    "            print(l_part.get_content_type())"
   ]
  },
  {
   "cell_type": "markdown",
   "id": "b35f4c8c",
   "metadata": {},
   "source": [
    "### Получаем текст письма типа text/plain"
   ]
  },
  {
   "cell_type": "code",
   "execution_count": 121,
   "id": "411a7d63",
   "metadata": {},
   "outputs": [
    {
     "name": "stdout",
     "output_type": "stream",
     "text": [
      "Добрый день!\r\n",
      "16 сентября на набережной Казанки пройдет турнир по петанку. Он приурочен к\r\n",
      "Дням парков и скверов, закрывающих летнюю программу мероприятий.\r\n",
      "\r\n",
      "Подробнее — в пресс-релизе!\r\n",
      "\n"
     ]
    }
   ],
   "source": [
    "for part in msg.walk():\n",
    "    if part.get_content_maintype() == 'text' and part.get_content_subtype() == 'plain':\n",
    "        print(base64.b64decode(part.get_payload()).decode())    "
   ]
  },
  {
   "cell_type": "markdown",
   "id": "e782ea5d",
   "metadata": {},
   "source": [
    "### а с html придется повозиться"
   ]
  },
  {
   "cell_type": "code",
   "execution_count": 122,
   "id": "435f3d6c",
   "metadata": {},
   "outputs": [
    {
     "name": "stdout",
     "output_type": "stream",
     "text": [
      "<div dir=\"auto\">Добрый день! <div dir=\"auto\">16 сентября на набережной Казанки пройдет турнир по петанку. Он приурочен к Дням парков и скверов, закрывающих летнюю программу мероприятий.</div><div dir=\"auto\"><br></div><div dir=\"auto\">Подробнее — в пресс-релизе! </div></div>\r\n",
      "\n"
     ]
    }
   ],
   "source": [
    "for part in msg.walk():\n",
    "    if part.get_content_maintype() == 'text' and part.get_content_subtype() == 'html':\n",
    "        print(base64.b64decode(part.get_payload()).decode()) "
   ]
  },
  {
   "cell_type": "markdown",
   "id": "4dff6b46",
   "metadata": {},
   "source": [
    "## Получаем вложения"
   ]
  },
  {
   "cell_type": "code",
   "execution_count": 123,
   "id": "b5258322",
   "metadata": {},
   "outputs": [
    {
     "name": "stdout",
     "output_type": "stream",
     "text": [
      "False\n",
      "True\n"
     ]
    }
   ],
   "source": [
    "for part in payload:\n",
    "    print(part.get_content_disposition() == 'attachment')"
   ]
  },
  {
   "cell_type": "code",
   "execution_count": 124,
   "id": "21180ee5",
   "metadata": {},
   "outputs": [
    {
     "name": "stdout",
     "output_type": "stream",
     "text": [
      "False\n",
      "False\n",
      "False\n",
      "False\n",
      "True\n"
     ]
    }
   ],
   "source": [
    "for part in msg.walk():\n",
    "    print(part.get_content_disposition() == 'attachment')"
   ]
  },
  {
   "cell_type": "code",
   "execution_count": 212,
   "id": "42cbd8de",
   "metadata": {},
   "outputs": [
    {
     "name": "stdout",
     "output_type": "stream",
     "text": [
      "=?UTF-8?B?0L/QtdGC0LDQvdC6LnBkZg==?=\n",
      "петанк.pdf\n",
      "петанк.pdf\n"
     ]
    }
   ],
   "source": [
    "for part in msg.walk():\n",
    "    if part.get_content_disposition() == 'attachment':\n",
    "        print(part.get_filename())\n",
    "        print(base64.b64decode('=0L/QtdGC0LDQvdC6LnBkZg==').decode())\n",
    "        print(decode_header(part.get_filename())[0][0].decode())\n",
    "              "
   ]
  },
  {
   "cell_type": "code",
   "execution_count": 213,
   "id": "95f0898d",
   "metadata": {},
   "outputs": [
    {
     "name": "stdout",
     "output_type": "stream",
     "text": [
      "Content-Type: application/pdf; name=\"=?UTF-8?B?0L/QtdGC0LDQvdC6LnBkZg==?=\"\n",
      "Content-Disposition: attachment; filename=\"=?UTF-8?B?0L/QtdGC0LDQvdC6LnBkZg==?=\"\n",
      "Content-Transfer-Encoding: base64\n",
      "Content-ID: <18336a9fbb54fb78aa51>\n",
      "X-Attachment-Id: 18336a9fbb54fb78aa51\n",
      "\n",
      "JVBERi0xLjYNJeLjz9MNCjEgMCBvYmoNPDwvTWV0YWRhdGEgMiAwIFIvT0NQcm9wZXJ0aWVzPDwv\n",
      "RDw8L09OWzkgMCBSXS9PcmRlciAxMCAwIFIvUkJHcm91cHNbXT4+L09DR3NbOSAwIFJdPj4vUGFn\n",
      "ZXMgMyAwIFIvVHlwZS9DYXRhbG9nPj4NZW5kb2JqDTIgMCBvYmoNPDwvTGVuZ3RoIDMzNTYzL1N1\n",
      "YnR5cGUvWE1ML1R5cGUvTWV0YWRhdGE+PnN0cmVhbQ0KPD94cGFja2V0IGJlZ2luPSLvu78iIGlk\n",
      "PSJXNU0wTXBDZWhpSHpyZVN6TlRjemtjOWQiPz4KPHg6eG1wbWV0YSB4bWxuczp4PSJhZG9iZTpu\n",
      "czptZXRhLyIgeDp4bXB0az0iQWRvYmUgWE1QIENvcmUgNy4yLWMwMDAgNzkuMWI2NWE3OSwgMjAy\n",
      "Mi8wNi8xMy0xNzo0NjoxNCAgICAgICAgIj4KICAgPHJkZjpSREYgeG1sbnM6cmRmPSJodHRwOi8v\n",
      "d3d3LnczLm9yZy8xOTk5LzAyLzIyLXJkZi1zeW50YXgtbnMjIj4KICAgICAgPHJkZjpEZXNjcmlw\n",
      "dGlvbiByZGY6YWJvdXQ9IiIKICAgICAgICAgICAgeG1sbnM6eG1wPSJodHRwOi8vbnMuYWRvYmUu\n",
      "Y29tL3hhcC8xLjAvIgogICAgICAgICAgICB4bWxuczp4bXBHSW1nPSJodHRwOi8vbnMuYWRvYmUu\n",
      "Y29tL3hhcC8xLjAvZy9pbWcvIgogICAgICAgICAgICB4bWxuczp4bXBNTT0iaHR0cDovL25zLmFk\n",
      "b2JlLmNvbS94YXAvMS4wL21tLyIKICAgICAgICAgICAgeG1sbnM6c3RFdnQ9Imh0dHA6Ly9ucy5h\n",
      "ZG9iZS5jb20veGFwLzEuMC9zVHlwZS9SZXNvdXJjZUV2ZW50IyIKICAgICAgICAgICAgeG1sbnM6\n",
      "c3RSZWY9Imh0dHA6Ly9ucy5hZG9iZS5jb20veGFwLzEuMC9zVHlwZS9SZXNvdXJjZVJlZiMiCiAg\n",
      "ICAgICAgICAgIHhtbG5zOmRjPSJodHRwOi8vcHVybC5vcmcvZGMvZWxlbWVudHMvMS4xLyIKICAg\n",
      "ICAgICAgICAgeG1sbnM6cGRmPSJodHRwOi8vbnMuYWRvYmUuY29tL3BkZi8xLjMvIgogICAgICAg\n",
      "ICAgICB4bWxuczp4bXBUUGc9Imh0dHA6Ly9ucy5hZG9iZS5jb20veGFwLzEuMC90L3BnLyIKICAg\n",
      "ICAgICAgICAgeG1sbnM6c3REaW09Imh0dHA6Ly9ucy5hZG9iZS5jb20veGFwLzEuMC9zVHlwZS9E\n",
      "aW1lbnNpb25zIyIKICAgICAgICAgICAgeG1sbnM6c3RGbnQ9Imh0dHA6Ly9ucy5hZG9iZS5jb20v\n",
      "eGFwLzEuMC9zVHlwZS9Gb250IyIKICAgICAgICAgICAgeG1sbnM6eG1wRz0iaHR0cDovL25zLmFk\n",
      "b2JlLmNvbS94YXAvMS4wL2cvIgogICAgICAgICAgICB4bWxuczppbGx1c3RyYXRvcj0iaHR0cDov\n",
      "L25zLmFkb2JlLmNvbS9pbGx1c3RyYXRvci8xLjAvIj4KICAgICAgICAgPHhtcDpDcmVhdGVEYXRl\n",
      "PjIwMjItMDktMTNUMTQ6NDA6NDkrMDQ6MDA8L3htcDpDcmVhdGVEYXRlPgogICAgICAgICA8eG1w\n",
      "Ok1ldGFkYXRhRGF0ZT4yMDIyLTA5LTEzVDE0OjQwOjUwKzAzOjAwPC94bXA6TWV0YWRhdGFEYXRl\n",
      "YXRlKEQ6MjAyMjA5MTMxNDQwNTArMDMnMDAnKS9Qcm9kdWNlcihBZG9iZSBQREYgbGlicmFyeSAx\n",
      "Ni4wNykvVGl0bGUo/v8EPwQ1BEIEMAQ9BDopL1RyYXBwZWQvRmFsc2U+Pg1lbmRvYmoNeHJlZg0K\n",
      "MCA0NA0KMDAwMDAwMDAwMCA2NTUzNSBmDQowMDAwMDAwMDE2IDAwMDAwIG4NCjAwMDAwMDAxNDUg\n",
      "MDAwMDAgbg0KMDAwMDAzMzc4NiAwMDAwMCBuDQowMDAwMDAwMDAwIDAwMDAwIGYNCjAwMDAwNTQ3\n",
      "MzIgMDAwMDAgbg0KMDAwMDA1NTM3OCAwMDAwMCBuDQowMDAwMDU2MDY3IDAwMDAwIG4NCjAwMDAw\n",
      "NTY0MjcgMDAwMDAgbg0KMDAwMDA1NDUzOSAwMDAwMCBuDQowMDAwMzk2MDI4IDAwMDAwIG4NCjAw\n",
      "MDAwMzM4MzggMDAwMDAgbg0KMDAwMDAzNDMzNyAwMDAwMCBuDQowMDAwMDQ5MDg3IDAwMDAwIG4N\n",
      "CjAwMDAwODAwMTEgMDAwMDAgbg0KMDAwMDA1NDQyNiAwMDAwMCBuDQowMDAwMDc5Nzc3IDAwMDAw\n",
      "IG4NCjAwMDAwNzk4ODggMDAwMDAgbg0KMDAwMDA1MDUxNyAwMDAwMCBuDQowMDAwMDQ5MTUyIDAw\n",
      "MDAwIG4NCjAwMDAwNDk5NTUgMDAwMDAgbg0KMDAwMDA1MDAwMyAwMDAwMCBuDQowMDAwMDU0MzYz\n",
      "IDAwMDAwIG4NCjAwMDAwNTQ2MTYgMDAwMDAgbg0KMDAwMDA1NDY0NyAwMDAwMCBuDQowMDAwMDc0\n",
      "MDk5IDAwMDAwIG4NCjAwMDAwNzQ1MDYgMDAwMDAgbg0KMDAwMDA2NjM3OSAwMDAwMCBuDQowMDAw\n",
      "MDY2ODc0IDAwMDAwIG4NCjAwMDAwNjM1MzEgMDAwMDAgbg0KMDAwMDA1NzA4NSAwMDAwMCBuDQow\n",
      "MDAwMDU3NTMyIDAwMDAwIG4NCjAwMDAwNTgyNTkgMDAwMDAgbg0KMDAwMDA2Mzg3OSAwMDAwMCBu\n",
      "DQowMDAwMDY3NjgxIDAwMDAwIG4NCjAwMDAwNzUxOTggMDAwMDAgbg0KMDAwMDA4MDA4NSAwMDAw\n",
      "MCBuDQowMDAwMDgwMzQwIDAwMDAwIG4NCjAwMDAwODE5OTggMDAwMDAgbg0KMDAwMDE0NzU4NyAw\n",
      "MDAwMCBuDQowMDAwMjEzMTc2IDAwMDAwIG4NCjAwMDAyNzg3NjUgMDAwMDAgbg0KMDAwMDM0NDM1\n",
      "NCAwMDAwMCBuDQowMDAwMzk2MDUyIDAwMDAwIG4NCnRyYWlsZXINCjw8L1NpemUgNDQvUm9vdCAx\n",
      "IDAgUi9JbmZvIDQzIDAgUi9JRFs8QjM0QUM1OTc0OTI5MzM0ODk2REREMjExNkM5NURFNzc+PEUz\n",
      "MjJBNTMwNERFQkVCNEQ4RTRCMTM4MTMxOUFDMUVFPl0+Pg0Kc3RhcnR4cmVmDQozOTYyNTgNCiUl\n",
      "RU9GDQo=\n"
     ]
    }
   ],
   "source": [
    "# а тут можно увидеть и сам файл\n",
    "for part in msg.walk():\n",
    "    if part.get_content_disposition() == 'attachment':\n",
    "        print(part)"
   ]
  }
 ],
 "metadata": {
  "kernelspec": {
   "display_name": "Python 3 (ipykernel)",
   "language": "python",
   "name": "python3"
  },
  "language_info": {
   "codemirror_mode": {
    "name": "ipython",
    "version": 3
   },
   "file_extension": ".py",
   "mimetype": "text/x-python",
   "name": "python",
   "nbconvert_exporter": "python",
   "pygments_lexer": "ipython3",
   "version": "3.9.7"
  }
 },
 "nbformat": 4,
 "nbformat_minor": 5
}
